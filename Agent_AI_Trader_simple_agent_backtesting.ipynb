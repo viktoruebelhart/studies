{
  "nbformat": 4,
  "nbformat_minor": 0,
  "metadata": {
    "colab": {
      "provenance": [],
      "include_colab_link": true
    },
    "kernelspec": {
      "name": "python3",
      "display_name": "Python 3"
    },
    "language_info": {
      "name": "python"
    }
  },
  "cells": [
    {
      "cell_type": "markdown",
      "metadata": {
        "id": "view-in-github",
        "colab_type": "text"
      },
      "source": [
        "<a href=\"https://colab.research.google.com/github/viktoruebelhart/studies/blob/main/Agent_AI_Trader_simple_agent_backtesting.ipynb\" target=\"_parent\"><img src=\"https://colab.research.google.com/assets/colab-badge.svg\" alt=\"Open In Colab\"/></a>"
      ]
    },
    {
      "cell_type": "code",
      "execution_count": null,
      "metadata": {
        "id": "jDTXcDmUj0bV",
        "colab": {
          "base_uri": "https://localhost:8080/"
        },
        "outputId": "acb84dce-c539-4569-c768-a463e8055883"
      },
      "outputs": [
        {
          "output_type": "stream",
          "name": "stdout",
          "text": [
            "\u001b[?25l   \u001b[90m━━━━━━━━━━━━━━━━━━━━━━━━━━━━━━━━━━━━━━━━\u001b[0m \u001b[32m0.0/125.1 kB\u001b[0m \u001b[31m?\u001b[0m eta \u001b[36m-:--:--\u001b[0m\r\u001b[2K   \u001b[90m━━━━━━━━━━━━━━━━━━━━━━━━━━━━━━━━━━━━━━━━\u001b[0m \u001b[32m125.1/125.1 kB\u001b[0m \u001b[31m5.3 MB/s\u001b[0m eta \u001b[36m0:00:00\u001b[0m\n",
            "\u001b[?25h\u001b[?25l   \u001b[90m━━━━━━━━━━━━━━━━━━━━━━━━━━━━━━━━━━━━━━━━\u001b[0m \u001b[32m0.0/50.4 kB\u001b[0m \u001b[31m?\u001b[0m eta \u001b[36m-:--:--\u001b[0m\r\u001b[2K   \u001b[90m━━━━━━━━━━━━━━━━━━━━━━━━━━━━━━━━━━━━━━━━\u001b[0m \u001b[32m50.4/50.4 kB\u001b[0m \u001b[31m3.0 MB/s\u001b[0m eta \u001b[36m0:00:00\u001b[0m\n",
            "\u001b[?25h\u001b[?25l   \u001b[90m━━━━━━━━━━━━━━━━━━━━━━━━━━━━━━━━━━━━━━━━\u001b[0m \u001b[32m0.0/1.2 MB\u001b[0m \u001b[31m?\u001b[0m eta \u001b[36m-:--:--\u001b[0m\r\u001b[2K   \u001b[91m━━━━━━━━━━━━━━━━━━━━━━━━━━━━━━━━━━━━━━━\u001b[0m\u001b[91m╸\u001b[0m \u001b[32m1.2/1.2 MB\u001b[0m \u001b[31m58.3 MB/s\u001b[0m eta \u001b[36m0:00:01\u001b[0m\r\u001b[2K   \u001b[90m━━━━━━━━━━━━━━━━━━━━━━━━━━━━━━━━━━━━━━━━\u001b[0m \u001b[32m1.2/1.2 MB\u001b[0m \u001b[31m23.0 MB/s\u001b[0m eta \u001b[36m0:00:00\u001b[0m\n",
            "\u001b[?25h"
          ]
        }
      ],
      "source": [
        "!pip install -U --quiet langgraph langchain_openai"
      ]
    },
    {
      "cell_type": "code",
      "source": [
        "import getpass\n",
        "import os\n",
        "\n",
        "\n",
        "def _set_if_undefined(var: str):\n",
        "    if not os.environ.get(var):\n",
        "        os.environ[var] = getpass.getpass(f\"Please provide your {var}\")\n",
        "\n",
        "\n",
        "_set_if_undefined(\"FINANCIAL_DATASETS_API_KEY\")   # For getting financial data. Get from https://financialdatasets.ai\n",
        "_set_if_undefined(\"OPENAI_API_KEY\")   # For getting financial data. Get from https://financialdatasets.ai"
      ],
      "metadata": {
        "id": "azDJXqYSl2sF",
        "colab": {
          "base_uri": "https://localhost:8080/"
        },
        "outputId": "1d2c01fd-7c5e-426a-dff6-4a3ec82244c1"
      },
      "execution_count": null,
      "outputs": [
        {
          "name": "stdout",
          "output_type": "stream",
          "text": [
            "Please provide your FINANCIAL_DATASETS_API_KEY··········\n",
            "Please provide your OPENAI_API_KEY··········\n"
          ]
        }
      ]
    },
    {
      "cell_type": "code",
      "source": [
        "# Manipulação de dados\n",
        "import pandas as pd\n",
        "\n",
        "# Requisições HTTP\n",
        "import requests  # Requests: para fazer requisições HTTP, como acessar APIs.\n",
        "\n",
        "# Funcionalidades do sistema operacional\n",
        "import os  # OS: para interagir com o sistema operacional (manipular arquivos, diretórios, etc.).\n",
        "\n",
        "# Expressões regulares\n",
        "import re  # RE: para manipular e validar padrões em textos usando expressões regulares.\n",
        "\n",
        "# Manipulação de data e hora\n",
        "from datetime import datetime, timedelta  # datetime: para trabalhar com datas e horas.\n",
        "\n",
        "# Visualização de dados\n",
        "import matplotlib.pyplot as plt  # Matplotlib: para criar gráficos e visualizações de dados.\n",
        "\n",
        "# Tipagem e tipos anotados\n",
        "from typing import TypedDict, Annotated, Sequence  # Para definir tipos específicos e garantir maior clareza no código.\n",
        "\n",
        "# Operações matemáticas e lógicas\n",
        "import operator  # Para operações matemáticas e lógicas (exemplo: comparação de valores).\n",
        "\n",
        "# Dependências do agente\n",
        "from langchain_openai.chat_models import ChatOpenAI  # ChatOpenAI: para usar o modelo de linguagem da OpenAI no agente.\n",
        "from langchain_core.messages import BaseMessage, HumanMessage, SystemMessage  # Para manipular mensagens no agente.\n",
        "\n",
        "# Grafo de estado\n",
        "# StateGraph: para construir fluxos de trabalho de agentes e lidar com estados de mensagens.\n",
        "from langgraph.graph import StateGraph, MessagesState"
      ],
      "metadata": {
        "id": "lP3IylZfm744"
      },
      "execution_count": null,
      "outputs": []
    },
    {
      "cell_type": "markdown",
      "source": [
        "# 1. Create the Agent"
      ],
      "metadata": {
        "id": "-adeYrdHpHvx"
      }
    },
    {
      "cell_type": "markdown",
      "source": [
        "- Inicializa o modelo gpt-4o.\n",
        "- Define o comportamento do agente no system_prompt.\n",
        "- Configura o fluxo de mensagens via grafo de estados.\n",
        "- Função run_agent permite interagir diretamente com o agente para obter uma decisão (\"buy\", \"sell\" ou \"hold\") baseada nos dados históricos fornecidos."
      ],
      "metadata": {
        "id": "959cAkB7mkgr"
      }
    },
    {
      "cell_type": "code",
      "source": [
        "# Initialize the OpenAI model\n",
        "gpt_4o_model = ChatOpenAI(model=\"gpt-4o\", temperature=0)\n",
        "\n",
        "# Define the system prompt\n",
        "system_prompt = \"\"\"\n",
        "You are a financial trading agent.\n",
        "Based on the provided historical stock price data, make a trading decision for today.\n",
        "Your decision should be one of:\n",
        "- 'buy'\n",
        "- 'sell'\n",
        "- 'hold'\n",
        "Only output the decision, without any additional text.\n",
        "\"\"\"\n",
        "\n",
        "# Define the function that calls the model\n",
        "def call_agent(state: MessagesState):\n",
        "    prompt = SystemMessage(content=system_prompt)\n",
        "    # Get the messages\n",
        "    messages = state[\"messages\"]\n",
        "\n",
        "    # Check if the first message is the prompt\n",
        "    if messages and messages[0].content != system_prompt:\n",
        "        # Add the prompt to the start of the messages\n",
        "        messages.insert(0, prompt)\n",
        "\n",
        "    # Invoke the model and return the response\n",
        "    return {\"messages\": [gpt_4o_model.invoke(messages)]}\n",
        "\n",
        "# Define the agent graph\n",
        "workflow = StateGraph(MessagesState)\n",
        "workflow.add_node(\"agent\", call_agent)\n",
        "workflow.set_entry_point(\"agent\")\n",
        "app = workflow.compile()\n",
        "\n",
        "# Run the agent\n",
        "def run_agent(content: str):\n",
        "    final_state = app.invoke(\n",
        "        {\"messages\": [HumanMessage(content=content)]},\n",
        "        config={\"configurable\": {\"thread_id\": 42}}\n",
        "    )\n",
        "    return final_state[\"messages\"][-1].content\n",
        "\n"
      ],
      "metadata": {
        "id": "tuMK7Jrxj3eY"
      },
      "execution_count": null,
      "outputs": []
    },
    {
      "cell_type": "code",
      "source": [
        "run_agent(\"hello\")"
      ],
      "metadata": {
        "id": "UnlmOdL8j7QD",
        "colab": {
          "base_uri": "https://localhost:8080/",
          "height": 36
        },
        "outputId": "23150549-d6d3-4df2-8c3e-89ea471589b1"
      },
      "execution_count": null,
      "outputs": [
        {
          "output_type": "execute_result",
          "data": {
            "text/plain": [
              "'I am here to assist you with trading decisions. Please provide the historical stock price data for analysis.'"
            ],
            "application/vnd.google.colaboratory.intrinsic+json": {
              "type": "string"
            }
          },
          "metadata": {},
          "execution_count": 7
        }
      ]
    },
    {
      "cell_type": "markdown",
      "source": [
        "# 2. Get Price Data"
      ],
      "metadata": {
        "id": "DsvZo7gjpMGu"
      }
    },
    {
      "cell_type": "markdown",
      "source": [
        "- A função get_price_data acessa uma API financeira para buscar dados históricos de preços de um ativo entre duas datas específicas, processa esses dados, e retorna um DataFrame com as informações organizadas e tratadas para análise."
      ],
      "metadata": {
        "id": "1nCAWxlUnhIB"
      }
    },
    {
      "cell_type": "code",
      "source": [
        "def get_price_data(ticker, start_date, end_date):\n",
        "    # Add your API key to the headers\n",
        "    headers = {\n",
        "        \"X-API-KEY\": os.environ.get(\"FINANCIAL_DATASETS_API_KEY\")\n",
        "    }\n",
        "\n",
        "    # Create the URL\n",
        "    url = (\n",
        "        f'https://api.financialdatasets.ai/prices/'\n",
        "        f'?ticker={ticker}'\n",
        "        f'&interval=day'\n",
        "        f'&interval_multiplier=1'\n",
        "        f'&start_date={start_date}'\n",
        "        f'&end_date={end_date}'\n",
        "    )\n",
        "\n",
        "    # Make API request\n",
        "    response = requests.get(url, headers=headers)\n",
        "\n",
        "    # Check for successful response\n",
        "    if response.status_code != 200:\n",
        "        raise Exception(f\"Error fetching data: {response.status_code} - {response.text}\")\n",
        "\n",
        "    # Parse prices from the response\n",
        "    data = response.json()\n",
        "    prices = data.get('prices')\n",
        "    if not prices:\n",
        "        raise ValueError(\"No price data returned\")\n",
        "\n",
        "    # Convert prices to DataFrame\n",
        "    df = pd.DataFrame(prices)\n",
        "\n",
        "    # Convert 'time' to datetime and set as index\n",
        "    df['Date'] = pd.to_datetime(df['time'])\n",
        "    df.set_index('Date', inplace=True)\n",
        "\n",
        "    # Ensure numeric data types\n",
        "    numeric_cols = ['open', 'close', 'high', 'low', 'volume']\n",
        "    for col in numeric_cols:\n",
        "        df[col] = pd.to_numeric(df[col], errors='coerce')\n",
        "\n",
        "    # Sort by date\n",
        "    df.sort_index(inplace=True)\n",
        "\n",
        "    return df\n"
      ],
      "metadata": {
        "id": "tCYkY3EDmCLM"
      },
      "execution_count": null,
      "outputs": []
    },
    {
      "cell_type": "markdown",
      "source": [
        "# 3. Create a backtester"
      ],
      "metadata": {
        "id": "eib4alsrpQ3h"
      }
    },
    {
      "cell_type": "markdown",
      "source": [
        "## O que é o código?\n",
        "\n",
        "O código é para testar como um \"agente de IA\" tomaria decisões de compra e venda de ativos (como ações) no mercado financeiro, usando dados históricos de preços. O **Backtester** (teste retrospectivo) simula as negociações que o agente faria se estivesse investindo no passado, e depois avalia o desempenho dessas decisões.\n",
        "\n",
        "---\n",
        "\n",
        "## Explicação do código passo a passo:\n",
        "\n",
        "### 1. A Classe Backtester\n",
        "A classe **Backtester** é como se fosse uma máquina de testar, onde você coloca as informações do agente, as ações que ele deve tomar e as condições de investimento. Ela simula as compras e vendas com base no histórico de preços para ver se as decisões do agente são boas.\n",
        "\n",
        "### 2. A Função `__init__` (Construtor)\n",
        "Esta função inicializa o backtester, ou seja, define os parâmetros principais, como:\n",
        "\n",
        "- **Agente de IA**: Quem vai tomar as decisões (ex: se comprar, vender ou segurar ações).\n",
        "- **Ticker**: O ativo (por exemplo, a ação de uma empresa) que o agente vai negociar.\n",
        "- **Data de Início e Fim**: O período de tempo durante o qual o backtester vai simular as negociações.\n",
        "- **Capital Inicial**: O quanto de dinheiro o agente tem no começo para começar a comprar e vender ativos.\n",
        "\n",
        "### 3. Função `load_data`\n",
        "A função `load_data` busca os dados históricos dos preços do ativo (como as ações) entre as datas definidas. Ela também garante que esses dados estejam organizados por data (do mais antigo para o mais recente).\n",
        "\n",
        "### 4. Função `initialize_portfolio`\n",
        "Aqui, o portfólio do agente é inicializado. Ele começa com o dinheiro inicial e nenhuma ação (ou seja, ele não tem ações compradas ainda). O valor do portfólio é o valor total que o agente tem (dinheiro em caixa + valor das ações).\n",
        "\n",
        "### 5. Função `parse_action`\n",
        "Quando o agente de IA toma uma decisão, ele responde com uma palavra: 'buy' (comprar), 'sell' (vender), ou 'hold' (segurar). Essa função pega a resposta do agente e a interpreta para saber se o agente quer comprar, vender ou segurar.\n",
        "\n",
        "### 6. Função `execute_trade`\n",
        "Essa função executa as ações de compra ou venda. Se o agente decidir comprar, ele usa o dinheiro disponível para comprar o maior número possível de ações. Se ele decidir vender, ele vende todas as ações que ele tem e recebe o dinheiro.\n",
        "\n",
        "- **Comprar**: Ele verifica se tem dinheiro suficiente para comprar o máximo possível de ações com o dinheiro disponível.\n",
        "- **Vender**: Ele verifica se tem ações para vender e, caso tenha, vende todas.\n",
        "\n",
        "### 7. Função `run_backtest`\n",
        "A função `run_backtest` é o coração do código. Ela faz o seguinte:\n",
        "\n",
        "1. Simula as negociações do agente dia a dia.\n",
        "2. A cada dia, a IA recebe os preços históricos dos últimos 5 dias e decide se vai comprar, vender ou segurar.\n",
        "3. Dependendo da decisão do agente, a função executa a ação de compra ou venda.\n",
        "4. Depois de cada negociação, a função calcula o valor total do portfólio (dinheiro em caixa + valor das ações) e registra essa informação.\n",
        "5. O código imprime as ações do agente, o preço do ativo e o valor do portfólio a cada dia.\n",
        "\n",
        "### 8. Função `analyze_performance`\n",
        "Após simular todas as negociações, essa função analisa como o portfólio se comportou ao longo do tempo:\n",
        "\n",
        "- **Total Return** (Retorno Total): Mostra quanto o portfólio cresceu ou diminuiu em relação ao valor inicial.\n",
        "- **Gráfico de Valor do Portfólio**: Mostra como o valor do portfólio mudou ao longo do tempo, para ver se o agente estava fazendo bons investimentos.\n",
        "- **Sharpe Ratio**: Mede o risco ajustado. Quanto mais alto, melhor, pois significa que o agente estava obtendo um bom retorno em relação ao risco.\n",
        "- **Máxima Queda (Maximum Drawdown)**: Mostra qual foi a maior perda do portfólio em algum momento. Isso é útil para ver quão arriscada foi a estratégia do agente.\n",
        "\n",
        "---\n",
        "\n",
        "## Resumo Final\n",
        "O código simula um agente de IA comprando e vendendo ações com base em dados históricos.\n",
        "Ele registra como o valor do portfólio (o total de dinheiro + ações) muda com o tempo.\n",
        "No final, o código analisa o desempenho do agente, mostrando o retorno total, o risco e a maior perda que o agente sofreu.\n"
      ],
      "metadata": {
        "id": "B1vN2JKyoMy5"
      }
    },
    {
      "cell_type": "markdown",
      "source": [
        "## Fluxograma\n",
        "\n",
        "https://www.mermaidchart.com/app/projects/52c09706-022f-4deb-8680-2583790473d5/diagrams/4cf0fff8-96d0-440e-94ff-245126a7fb34/version/v0.1/edit\n"
      ],
      "metadata": {
        "id": "UC5wbUnGr0zT"
      }
    },
    {
      "cell_type": "code",
      "source": [
        "class Backtester:\n",
        "    def __init__(self, agent, ticker, start_date, end_date, initial_capital):\n",
        "        self.agent = agent\n",
        "        self.ticker = ticker\n",
        "        self.start_date = start_date\n",
        "        self.end_date = end_date\n",
        "        self.initial_capital = initial_capital\n",
        "        self.data = None\n",
        "        self.portfolio = None\n",
        "        self.portfolio_values = []\n",
        "\n",
        "    def load_data(self):\n",
        "        self.data = get_price_data(self.ticker, self.start_date, self.end_date)\n",
        "        # Ensure data is sorted by date\n",
        "        self.data.sort_index(inplace=True)\n",
        "\n",
        "    def initialize_portfolio(self):\n",
        "        self.portfolio = {\n",
        "            'cash': self.initial_capital,\n",
        "            'stock': 0,\n",
        "            'portfolio_value': self.initial_capital\n",
        "        }\n",
        "\n",
        "    def parse_action(self, agent_output):\n",
        "        # Use regular expressions to find 'buy', 'sell', or 'hold' in the agent's output\n",
        "        match = re.search(r'\\b(buy|sell|hold)\\b', agent_output.lower())\n",
        "        if match:\n",
        "            return match.group(1)\n",
        "        else:\n",
        "            # If no valid action is found, default to 'hold'\n",
        "            return 'hold'\n",
        "\n",
        "    def execute_trade(self, action, current_price):\n",
        "        if action == 'buy' and self.portfolio['cash'] >= current_price:\n",
        "            # Buy as many shares as possible with available cash\n",
        "            shares_to_buy = int(self.portfolio['cash'] // current_price)\n",
        "            self.portfolio['stock'] += shares_to_buy\n",
        "            self.portfolio['cash'] -= shares_to_buy * current_price\n",
        "        elif action == 'sell' and self.portfolio['stock'] > 0:\n",
        "            # Sell all shares\n",
        "            self.portfolio['cash'] += self.portfolio['stock'] * current_price\n",
        "            self.portfolio['stock'] = 0\n",
        "        # else 'hold' or not enough cash/stock to trade\n",
        "\n",
        "    def run_backtest(self):\n",
        "        window_size = 5  # Number of days of historical data to provide to the agent\n",
        "        data = self.data\n",
        "\n",
        "        # Ensure there are enough data points\n",
        "        if len(data) < window_size:\n",
        "            raise ValueError(\"Not enough data to perform backtest.\")\n",
        "\n",
        "        print(\"\\nStarting backtest...\")\n",
        "        print(f\"{'Date':<12} {'Action':<6} {'Price':>8} {'Shares':>8} {'Cash':>12} {'Total Value':>12}\")\n",
        "        print(\"-\" * 60)\n",
        "\n",
        "        for idx in range(window_size, len(data)):\n",
        "            current_date = data.index[idx]\n",
        "            # Get historical data up to the current date\n",
        "            historical_data = data.iloc[idx - window_size:idx]\n",
        "            historical_prices = historical_data['close'].tolist()\n",
        "            price_history_str = ', '.join([f\"{price:.2f}\" for price in historical_prices])\n",
        "\n",
        "            content = f\"\"\"\n",
        "            Here is the closing price data for the last {window_size} days: {price_history_str}.\n",
        "\n",
        "            Based on this data, what is your trading decision for today? Please respond with only one word: 'buy', 'sell', or 'hold'.\n",
        "            \"\"\"\n",
        "\n",
        "            # Agent makes a decision\n",
        "            agent_output = self.agent(content)\n",
        "            action = self.parse_action(agent_output)\n",
        "            current_price = data.loc[current_date, 'close']\n",
        "\n",
        "            # Execute the agent's action\n",
        "            self.execute_trade(action, current_price)\n",
        "\n",
        "            # Update total portfolio value\n",
        "            total_value = self.portfolio['cash'] + self.portfolio['stock'] * current_price\n",
        "            self.portfolio['portfolio_value'] = total_value\n",
        "\n",
        "            # Log the current state\n",
        "            print(f\"{current_date.strftime('%Y-%m-%d'):<12} {action:<6} {current_price:>8.2f} {self.portfolio['stock']:>8d} {self.portfolio['cash']:>12.2f} {total_value:>12.2f}\")\n",
        "\n",
        "            # Record the portfolio value\n",
        "            self.portfolio_values.append({\n",
        "                'Date': current_date,\n",
        "                'Portfolio Value': total_value\n",
        "            })\n",
        "\n",
        "    def analyze_performance(self):\n",
        "        # Convert portfolio values to DataFrame\n",
        "        performance_df = pd.DataFrame(self.portfolio_values).set_index('Date')\n",
        "\n",
        "        # Calculate total return\n",
        "        total_return = (self.portfolio['portfolio_value'] - self.initial_capital) / self.initial_capital\n",
        "        print(f\"Total Return: {total_return * 100:.2f}%\")\n",
        "\n",
        "        # Plot the portfolio value over time\n",
        "        performance_df['Portfolio Value'].plot(title='Portfolio Value Over Time', figsize=(12,6))\n",
        "        plt.ylabel('Portfolio Value ($)')\n",
        "        plt.xlabel('Date')\n",
        "        plt.show()\n",
        "\n",
        "        # Compute daily returns\n",
        "        performance_df['Daily Return'] = performance_df['Portfolio Value'].pct_change()\n",
        "\n",
        "        # Calculate Sharpe Ratio (assuming 252 trading days in a year)\n",
        "        mean_daily_return = performance_df['Daily Return'].mean()\n",
        "        std_daily_return = performance_df['Daily Return'].std()\n",
        "        sharpe_ratio = (mean_daily_return / std_daily_return) * (252 ** 0.5)\n",
        "        print(f\"Sharpe Ratio: {sharpe_ratio:.2f}\")\n",
        "\n",
        "        # Calculate Maximum Drawdown\n",
        "        rolling_max = performance_df['Portfolio Value'].cummax()\n",
        "        drawdown = performance_df['Portfolio Value'] / rolling_max - 1\n",
        "        max_drawdown = drawdown.min()\n",
        "        print(f\"Maximum Drawdown: {max_drawdown * 100:.2f}%\")\n",
        "\n",
        "        return performance_df"
      ],
      "metadata": {
        "id": "sycJCgYunBfq"
      },
      "execution_count": null,
      "outputs": []
    },
    {
      "cell_type": "markdown",
      "source": [
        "# 4. Run the Backtest\n",
        "\n",
        "##### Backtest é uma simulação que testa uma estratégia de investimento usando dados passados, para ver como ela teria se saído se tivesse sido aplicada no passado"
      ],
      "metadata": {
        "id": "8gbjCJT-pTa0"
      }
    },
    {
      "cell_type": "markdown",
      "source": [
        "- Este trecho de código configura e executa o backtest de um agente de IA negociando as ações da Apple (AAPL) entre 1º de junho de 2024 e 21 de novembro de 2024, com $100.000 de capital inicial. O backtest simula as negociações, registra o desempenho do agente e fornece uma análise final do retorno e riscos do portfólio"
      ],
      "metadata": {
        "id": "F8TdQc2DpnUj"
      }
    },
    {
      "cell_type": "code",
      "source": [
        "# Define parameters\n",
        "ticker = 'AAPL'  # Example ticker symbol\n",
        "start_date = '2024-06-01'  # Adjust as needed\n",
        "end_date = '2024-11-21'    # Adjust as needed\n",
        "initial_capital = 100000  # $100,000\n",
        "\n",
        "# Create an instance of Backtester\n",
        "backtester = Backtester(\n",
        "    agent=run_agent,\n",
        "    ticker=ticker,\n",
        "    start_date=start_date,\n",
        "    end_date=end_date,\n",
        "    initial_capital=initial_capital\n",
        ")\n",
        "\n",
        "# Run the backtesting process\n",
        "backtester.load_data()\n",
        "backtester.initialize_portfolio()\n",
        "backtester.run_backtest()\n",
        "performance_df = backtester.analyze_performance()"
      ],
      "metadata": {
        "id": "ro6_juA_nHl-",
        "colab": {
          "base_uri": "https://localhost:8080/",
          "height": 1000
        },
        "outputId": "e7303e99-6ec8-4707-debb-e430e4382742"
      },
      "execution_count": null,
      "outputs": [
        {
          "output_type": "stream",
          "name": "stdout",
          "text": [
            "\n",
            "Starting backtest...\n",
            "Date         Action    Price   Shares         Cash  Total Value\n",
            "------------------------------------------------------------\n",
            "2024-06-10   buy      193.12      517       156.96    100000.00\n",
            "2024-06-11   hold     207.15      517       156.96    107253.51\n",
            "2024-06-12   sell     213.07        0    110314.15    110314.15\n",
            "2024-06-13   buy      214.24      514       194.79    110314.15\n",
            "2024-06-14   sell     212.49        0    109414.65    109414.65\n",
            "2024-06-17   sell     216.67        0    109414.65    109414.65\n",
            "2024-06-18   buy      214.29      510       126.75    109414.65\n",
            "2024-06-20   hold     209.68      510       126.75    107063.55\n",
            "2024-06-21   sell     207.49        0    105946.65    105946.65\n",
            "2024-06-24   sell     208.14        0    105946.65    105946.65\n",
            "2024-06-25   hold     209.07        0    105946.65    105946.65\n",
            "2024-06-26   hold     213.25        0    105946.65    105946.65\n",
            "2024-06-27   buy      214.10      494       181.25    105946.65\n",
            "2024-06-28   buy      210.62      494       181.25    104227.53\n",
            "2024-07-01   hold     216.75      494       181.25    107255.75\n",
            "2024-07-02   buy      220.27      494       181.25    108994.63\n",
            "2024-07-03   buy      221.55      494       181.25    109626.95\n",
            "2024-07-05   sell     226.34        0    111993.21    111993.21\n",
            "2024-07-08   buy      227.82      491       133.59    111993.21\n",
            "2024-07-09   hold     228.68      491       133.59    112415.47\n",
            "2024-07-10   buy      232.98      491       133.59    114526.77\n",
            "2024-07-11   buy      227.57      491       133.59    111870.46\n",
            "2024-07-12   sell     230.54        0    113328.73    113328.73\n",
            "2024-07-15   hold     234.40        0    113328.73    113328.73\n",
            "2024-07-16   hold     234.82        0    113328.73    113328.73\n",
            "2024-07-17   hold     228.88        0    113328.73    113328.73\n",
            "2024-07-18   sell     224.18        0    113328.73    113328.73\n",
            "2024-07-19   sell     224.31        0    113328.73    113328.73\n",
            "2024-07-22   sell     223.96        0    113328.73    113328.73\n",
            "2024-07-23   hold     225.01        0    113328.73    113328.73\n",
            "2024-07-24   hold     218.54        0    113328.73    113328.73\n",
            "2024-07-25   buy      217.49      521        16.44    113328.73\n",
            "2024-07-26   buy      217.96      521        16.44    113573.60\n",
            "2024-07-29   hold     218.24      521        16.44    113719.48\n",
            "2024-07-30   hold     218.80      521        16.44    114011.24\n",
            "2024-07-31   hold     222.08      521        16.44    115720.12\n",
            "2024-08-01   buy      218.36      521        16.44    113782.00\n",
            "2024-08-02   hold     219.86      521        16.44    114563.50\n",
            "2024-08-05   hold     209.27      521        16.44    109046.11\n",
            "2024-08-06   sell     207.23        0    107983.27    107983.27\n",
            "2024-08-07   buy      209.82      514       135.79    107983.27\n",
            "2024-08-08   hold     213.31      514       135.79    109777.13\n",
            "2024-08-09   hold     216.24      514       135.79    111283.15\n",
            "2024-08-12   sell     217.53        0    111946.21    111946.21\n",
            "2024-08-13   hold     221.27        0    111946.21    111946.21\n",
            "2024-08-14   buy      221.72      504       199.33    111946.21\n",
            "2024-08-15   hold     224.72      504       199.33    113458.21\n",
            "2024-08-16   buy      226.05      504       199.33    114128.53\n",
            "2024-08-19   buy      225.89      504       199.33    114047.89\n",
            "2024-08-20   hold     226.51      504       199.33    114360.37\n",
            "2024-08-21   hold     226.40      504       199.33    114304.93\n",
            "2024-08-22   hold     224.53      504       199.33    113362.45\n",
            "2024-08-23   sell     226.84        0    114526.69    114526.69\n",
            "2024-08-26   hold     227.18        0    114526.69    114526.69\n",
            "2024-08-27   hold     228.03        0    114526.69    114526.69\n",
            "2024-08-28   buy      226.49      505       149.24    114526.69\n",
            "2024-08-29   hold     229.79      505       149.24    116193.19\n",
            "2024-08-30   buy      229.00      505       149.24    115794.24\n",
            "2024-09-03   hold     222.77      505       149.24    112648.09\n",
            "2024-09-04   sell     220.85        0    111678.49    111678.49\n",
            "2024-09-05   sell     222.38        0    111678.49    111678.49\n",
            "2024-09-06   hold     220.82        0    111678.49    111678.49\n",
            "2024-09-09   hold     220.91        0    111678.49    111678.49\n",
            "2024-09-10   hold     220.11        0    111678.49    111678.49\n",
            "2024-09-11   hold     222.66        0    111678.49    111678.49\n",
            "2024-09-12   hold     222.77        0    111678.49    111678.49\n",
            "2024-09-13   hold     222.50        0    111678.49    111678.49\n",
            "2024-09-16   hold     216.32        0    111678.49    111678.49\n",
            "2024-09-17   sell     216.79        0    111678.49    111678.49\n",
            "2024-09-18   buy      220.69      506         9.35    111678.49\n",
            "2024-09-19   hold     228.87      506         9.35    115817.57\n",
            "2024-09-20   buy      228.20      506         9.35    115478.55\n",
            "2024-09-23   sell     226.47        0    114603.17    114603.17\n",
            "2024-09-24   hold     227.37        0    114603.17    114603.17\n",
            "2024-09-25   hold     226.37        0    114603.17    114603.17\n",
            "2024-09-26   hold     227.52        0    114603.17    114603.17\n",
            "2024-09-27   hold     227.79        0    114603.17    114603.17\n",
            "2024-09-30   hold     233.00        0    114603.17    114603.17\n",
            "2024-10-01   buy      226.21      506       140.91    114603.17\n",
            "2024-10-02   sell     226.78        0    114891.59    114891.59\n",
            "2024-10-03   hold     225.67        0    114891.59    114891.59\n",
            "2024-10-04   hold     226.80        0    114891.59    114891.59\n",
            "2024-10-07   hold     221.69        0    114891.59    114891.59\n",
            "2024-10-08   sell     225.77        0    114891.59    114891.59\n",
            "2024-10-09   hold     229.54        0    114891.59    114891.59\n",
            "2024-10-10   buy      229.04      501       142.55    114891.59\n",
            "2024-10-11   hold     227.55      501       142.55    114145.10\n",
            "2024-10-14   hold     231.30      501       142.55    116023.85\n",
            "2024-10-15   hold     233.85      501       142.55    117301.40\n",
            "2024-10-16   buy      231.78      501       142.55    116264.33\n",
            "2024-10-17   hold     232.15      501       142.55    116449.70\n",
            "2024-10-18   hold     235.00      501       142.55    117877.55\n",
            "2024-10-21   hold     236.48      501       142.55    118619.03\n",
            "2024-10-22   buy      235.86      501       142.55    118308.41\n",
            "2024-10-23   hold     230.76      501       142.55    115753.31\n",
            "2024-10-24   sell     230.57        0    115658.12    115658.12\n",
            "2024-10-25   sell     231.41        0    115658.12    115658.12\n",
            "2024-10-28   hold     233.40        0    115658.12    115658.12\n",
            "2024-10-29   hold     233.67        0    115658.12    115658.12\n",
            "2024-10-30   buy      230.10      502       147.92    115658.12\n",
            "2024-10-31   sell     225.91        0    113554.74    113554.74\n",
            "2024-11-01   sell     222.91        0    113554.74    113554.74\n",
            "2024-11-04   buy      222.01      511       107.63    113554.74\n",
            "2024-11-05   buy      223.45      511       107.63    114290.58\n",
            "2024-11-06   buy      222.72      511       107.63    113917.55\n",
            "2024-11-07   hold     227.48      511       107.63    116349.91\n",
            "2024-11-08   buy      226.96      511       107.63    116084.19\n",
            "2024-11-11   hold     224.23      511       107.63    114689.16\n",
            "2024-11-12   hold     224.23      511       107.63    114689.16\n",
            "2024-11-13   hold     225.12      511       107.63    115143.95\n",
            "2024-11-14   hold     228.22      511       107.63    116728.05\n",
            "2024-11-15   buy      225.00      511       107.63    115082.63\n",
            "2024-11-18   hold     228.02      511       107.63    116625.85\n",
            "2024-11-19   hold     228.28      511       107.63    116758.71\n",
            "2024-11-20   hold     229.00      511       107.63    117126.63\n",
            "2024-11-21   hold     228.52      511       107.63    116881.35\n",
            "Total Return: 16.88%\n"
          ]
        },
        {
          "output_type": "display_data",
          "data": {
            "text/plain": [
              "<Figure size 1200x600 with 1 Axes>"
            ],
            "image/png": "[encoded data removed]"
          },
          "metadata": {}
        },
        {
          "output_type": "stream",
          "name": "stdout",
          "text": [
            "Sharpe Ratio: 1.79\n",
            "Maximum Drawdown: -6.69%\n"
          ]
        }
      ]
    }
  ]
}