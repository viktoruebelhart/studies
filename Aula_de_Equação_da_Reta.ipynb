{
  "cells": [
    {
      "cell_type": "markdown",
      "metadata": {
        "id": "view-in-github",
        "colab_type": "text"
      },
      "source": [
        "<a href=\"https://colab.research.google.com/github/viktoruebelhart/studies/blob/main/Aula_de_Equa%C3%A7%C3%A3o_da_Reta.ipynb\" target=\"_parent\"><img src=\"https://colab.research.google.com/assets/colab-badge.svg\" alt=\"Open In Colab\"/></a>"
      ]
    },
    {
      "cell_type": "markdown",
      "id": "38cf38ee",
      "metadata": {
        "id": "38cf38ee"
      },
      "source": [
        "# Introdução\n",
        "\n",
        "Antes de entrarmos na teoria, quero que você observe o exemplo abaixo."
      ]
    },
    {
      "cell_type": "markdown",
      "id": "c8285145",
      "metadata": {
        "id": "c8285145"
      },
      "source": [
        "Primeiro, pense na seguinte equação:\n",
        "    \n",
        "$ y = 2 * x $"
      ]
    },
    {
      "cell_type": "markdown",
      "id": "fe1c60c0",
      "metadata": {
        "id": "fe1c60c0"
      },
      "source": [
        "Isso significa que para cada valor de x, y será o dobro. Para x igual a 1, teremos que o valor de y é 2. Para x igual a 2, o valor de y é 4. Para x igual a 1,345, o valor de y será 2,690. Isso para todos os números reais. Certo?"
      ]
    },
    {
      "cell_type": "code",
      "execution_count": null,
      "id": "1fabe6c3",
      "metadata": {
        "id": "1fabe6c3",
        "outputId": "a6ffa92b-7465-4b60-e8fe-5a0a1538f66d"
      },
      "outputs": [
        {
          "data": {
            "text/html": [
              "<div>\n",
              "<style scoped>\n",
              "    .dataframe tbody tr th:only-of-type {\n",
              "        vertical-align: middle;\n",
              "    }\n",
              "\n",
              "    .dataframe tbody tr th {\n",
              "        vertical-align: top;\n",
              "    }\n",
              "\n",
              "    .dataframe thead th {\n",
              "        text-align: right;\n",
              "    }\n",
              "</style>\n",
              "<table border=\"1\" class=\"dataframe\">\n",
              "  <thead>\n",
              "    <tr style=\"text-align: right;\">\n",
              "      <th></th>\n",
              "      <th>x</th>\n",
              "      <th>y</th>\n",
              "    </tr>\n",
              "  </thead>\n",
              "  <tbody>\n",
              "    <tr>\n",
              "      <th>0</th>\n",
              "      <td>-10</td>\n",
              "      <td>-20</td>\n",
              "    </tr>\n",
              "    <tr>\n",
              "      <th>1</th>\n",
              "      <td>-5</td>\n",
              "      <td>-10</td>\n",
              "    </tr>\n",
              "    <tr>\n",
              "      <th>2</th>\n",
              "      <td>0</td>\n",
              "      <td>0</td>\n",
              "    </tr>\n",
              "    <tr>\n",
              "      <th>3</th>\n",
              "      <td>5</td>\n",
              "      <td>10</td>\n",
              "    </tr>\n",
              "    <tr>\n",
              "      <th>4</th>\n",
              "      <td>10</td>\n",
              "      <td>20</td>\n",
              "    </tr>\n",
              "  </tbody>\n",
              "</table>\n",
              "</div>"
            ],
            "text/plain": [
              "    x   y\n",
              "0 -10 -20\n",
              "1  -5 -10\n",
              "2   0   0\n",
              "3   5  10\n",
              "4  10  20"
            ]
          },
          "metadata": {},
          "output_type": "display_data"
        }
      ],
      "source": [
        "import numpy as np\n",
        "import matplotlib.pyplot as plt\n",
        "import warnings\n",
        "import pandas as pd\n",
        "\n",
        "# Suprimir todos os avisos\n",
        "warnings.filterwarnings(\"ignore\")\n",
        "\n",
        "np.random.seed(42)\n",
        "x = [-10, -5, 0, 5, 10]\n",
        "\n",
        "# Converter a lista x para um array numpy para realizar a multiplicação escalar\n",
        "x = np.array(x)\n",
        "\n",
        "# Calcular y\n",
        "y = 2 * x\n",
        "\n",
        "# Criar um DataFrame com as listas x e y\n",
        "df = pd.DataFrame({'x': x, 'y': y})\n",
        "\n",
        "# Exibir o DataFrame\n",
        "display(df)\n"
      ]
    },
    {
      "cell_type": "markdown",
      "id": "50428360",
      "metadata": {
        "id": "50428360"
      },
      "source": [
        "Essa simples equação apresentada acima é o que a gente chama de equação da reta. Adivinha por que tem este nome? Porque ela forma uma reta!"
      ]
    },
    {
      "cell_type": "code",
      "execution_count": null,
      "id": "a17182c8",
      "metadata": {
        "id": "a17182c8",
        "outputId": "5016c7da-384e-47b2-9591-09a8030c47c1"
      },
      "outputs": [
        {
          "data": {
            "image/png": "[encoded data removed]",
            "text/plain": [
              "<Figure size 576x432 with 1 Axes>"
            ]
          },
          "metadata": {
            "needs_background": "light"
          },
          "output_type": "display_data"
        }
      ],
      "source": [
        "plt.figure(figsize=(8, 6))\n",
        "plt.scatter(x,y)\n",
        "#plt.plot(x, y, marker='o', linestyle='-', color='b', label='y = 2x')\n",
        "plt.title('Reta formada pelos valores de x e y')\n",
        "plt.xlabel('x')\n",
        "plt.ylabel('y')\n",
        "#plt.axhline(0, color='black',linewidth=0.5)\n",
        "#plt.axvline(0, color='black',linewidth=0.5)\n",
        "#plt.grid(color = 'gray', linestyle = '--', linewidth = 0.5)\n",
        "#plt.legend()\n",
        "plt.show()\n"
      ]
    },
    {
      "cell_type": "code",
      "execution_count": null,
      "id": "a464c3cc",
      "metadata": {
        "id": "a464c3cc",
        "outputId": "2f1dc1db-25ff-40c6-97ae-ebecc8f7b312"
      },
      "outputs": [
        {
          "data": {
            "text/plain": [
              "<matplotlib.collections.PathCollection at 0x12a8ed0ce50>"
            ]
          },
          "execution_count": 5,
          "metadata": {},
          "output_type": "execute_result"
        },
        {
          "data": {
            "image/png": "[encoded data removed]",
            "text/plain": [
              "<Figure size 432x288 with 1 Axes>"
            ]
          },
          "metadata": {
            "needs_background": "light"
          },
          "output_type": "display_data"
        }
      ],
      "source": [
        "plt.scatter(x, y)"
      ]
    },
    {
      "cell_type": "markdown",
      "id": "4563a1b8",
      "metadata": {
        "id": "4563a1b8"
      },
      "source": [
        "Se trocarmos a equação acima por:\n",
        "    \n",
        "$ y = 0.5 * x + 2$\n",
        "\n",
        "Teríamos o seguinte desenho de reta:"
      ]
    },
    {
      "cell_type": "code",
      "execution_count": null,
      "id": "bc1bcdfa",
      "metadata": {
        "id": "bc1bcdfa",
        "outputId": "31af4368-f1a1-41a2-a19f-e05098b59f74"
      },
      "outputs": [
        {
          "data": {
            "image/png": "[encoded data removed]",
            "text/plain": [
              "<Figure size 432x288 with 1 Axes>"
            ]
          },
          "metadata": {
            "needs_background": "light"
          },
          "output_type": "display_data"
        }
      ],
      "source": [
        "x = np.linspace(-10, 10, 400)\n",
        "y = 0.5*x + 2\n",
        "\n",
        "plt.plot(x, y)\n",
        "\n",
        "plt.title('Exemplo 2 de Reta')\n",
        "\n",
        "plt.show()\n"
      ]
    },
    {
      "cell_type": "markdown",
      "id": "fafca955",
      "metadata": {
        "id": "fafca955"
      },
      "source": [
        "Veja que a segunda equação é bem parecida com a pimeira. Inclusive, a primeira poderia ter o mesmo formato, basta adicionar um 0:\n",
        "\n",
        "Equação 1: $y = 2x + 0$ <br>\n",
        "Equação 2: $y = 0.5x + 2$\n",
        "\n",
        "Está entendendo onde queremos chegar???"
      ]
    },
    {
      "cell_type": "markdown",
      "id": "0b43a0cc",
      "metadata": {
        "id": "0b43a0cc"
      },
      "source": [
        "## O que é uma Equação da Reta?\n",
        "\n",
        "Uma equação da reta é uma expressão matemática que descreve uma linha reta quando plotada em um plano cartesiano. É uma equação que forma uma linha reta e pode ser representada na forma:\n",
        "\n",
        "$ y = a + b * x $ (I)\n",
        "\n"
      ]
    },
    {
      "cell_type": "markdown",
      "id": "3198657b",
      "metadata": {
        "id": "3198657b"
      },
      "source": [
        "Generalizando isso para várias dimensões, temos a famosa equação linear, que seria a mesma coisa, mas para mais de um eixo representando o valor de y:\n",
        "    \n",
        "$ y = b_0 + b_1 * x_1 + b_2 * x_2 + b_3*x_3 + ... + b_n*x_n$ (II)\n",
        "\n",
        "Claro, fica mais difícil representá-lo visualmente, mas a ideia é que a gente visualizasse uma reta numa dimensão N.\n",
        "\n",
        "E não se prenda às letras, veja que isso está apenas explicando a relação entre duas variáveis (x e y). Poderíamos ter algo assim:\n",
        "\n",
        "$ Preço do Imóvel = 40000 + 5000 * Metragem $\n",
        "\n",
        "Basicamente, estaríamos definindo o imóvel com base em uma metragem. É claro que a gente usa mais informações para precificar um imóvel, mas a ideia é relacionarmos variáveis! Inclusive, generalizando a nossa equação para uma equação linear, talvez a gente se aproxime mais da realidade ao fazer:\n",
        "\n",
        "$ Preço do Imóvel = 20000 + 5000 * Metragem + 1500 * Número de Banheiros + 2000 * Número de Vagas na Garagem $\n",
        "\n",
        "Veja que temos a mesma equação (II) definida acima, apenas trocamos $b_1$, $b_2$ e $b_3$ por metragem, número de banheiros e número de vagas na garagem!"
      ]
    },
    {
      "cell_type": "markdown",
      "id": "971671a2",
      "metadata": {
        "id": "971671a2"
      },
      "source": [
        "Agora, vamos entender melhor $a$ e $b$ da equação da reta (que seria o mesmo que o $b_0$ e os $b_n$ da equação linear)"
      ]
    },
    {
      "cell_type": "markdown",
      "id": "d4ce9dd3",
      "metadata": {
        "id": "d4ce9dd3"
      },
      "source": [
        "## Explicação da Inclinação de uma Reta\n",
        "\n",
        "A inclinação de uma reta, representada pela letra \\$ b \\$ na equação linear \\$ y = a+bx \\$, indica o quanto a variável \\$ y \\$ (vertical) muda em relação à variável \\$ x \\$ (horizontal). Em termos matemáticos, a inclinação é calculada como a variação em \\$ y \\$ dividida pela variação em \\$ x \\$.\n",
        "\n",
        "#### Fórmula da Inclinação\n",
        "\n",
        "A fórmula para calcular a inclinação \\$( b \\$) entre dois pontos \\$(x_1, y_1)\\$ e \\$(x_2, y_2)\\$ em uma linha reta é:\n",
        "\n",
        "\\$ b = \\frac{\\Delta y}{\\Delta x} = \\frac{y_2 - y_1}{x_2 - x_1} \\$\n",
        "\n",
        "#### Exemplo 1: Inclinação Positiva\n",
        "\n",
        "Vamos considerar dois pontos na linha: \\$(1, 2)\\$ e \\$(3, 6)\\$.\n",
        "\n",
        "- Coordenadas do primeiro ponto (\\$ x_1, y_1 \\$): (1, 2)\n",
        "- Coordenadas do segundo ponto (\\$ x_2, y_2 \\$): (3, 6)\n",
        "\n",
        "Calculando a inclinação \\$( b \\$):\n",
        "\n",
        "\\$ b = \\frac{y_2 - y_1}{x_2 - x_1} = \\frac{6 - 2}{3 - 1} = \\frac{4}{2} = 2 \\$\n",
        "\n",
        "Isso significa que para cada unidade que \\$ x \\$ aumenta, \\$ y \\$ aumenta em 2 unidades. Portanto, a linha sobe da esquerda para a direita.\n",
        "\n",
        "#### Exemplo 2: Inclinação Negativa\n",
        "\n",
        "Agora, considere dois pontos diferentes: \\$(2, 5)\\$ e \\$(5, 2)\\$.\n",
        "\n",
        "- Coordenadas do primeiro ponto \\$( x_1, y_1 \\$): (2, 5)\n",
        "- Coordenadas do segundo ponto \\$( x_2, y_2 \\$): (5, 2)\n",
        "\n",
        "Calculando a inclinação \\$( b \\$):\n",
        "\n",
        "\\$ b = \\frac{y_2 - y_1}{x_2 - x_1} = \\frac{2 - 5}{5 - 2} = \\frac{-3}{3} = -1 \\$\n",
        "\n",
        "Aqui, a inclinação é -1, o que significa que para cada unidade que \\$ x \\$ aumenta, \\$ y \\$ diminui em 1 unidade. Portanto, a linha desce da esquerda para a direita.\n",
        "\n",
        "#### Exemplo 3: Inclinação Zero\n",
        "\n",
        "Considere uma linha horizontal passando pelos pontos \\$(1, 4)\\$ e \\$(3, 4)\\$.\n",
        "\n",
        "- Coordenadas do primeiro ponto \\$( x_1, y_1 \\$): (1, 4)\n",
        "- Coordenadas do segundo ponto \\$( x_2, y_2 \\$): (3, 4)\n",
        "\n",
        "Calculando a inclinação \\$( b \\$):\n",
        "\n",
        "\\$ b = \\frac{y_2 - y_1}{x_2 - x_1} = \\frac{4 - 4}{3 - 1} = \\frac{0}{2} = 0 \\$\n",
        "\n",
        "A inclinação é 0, indicando que não há variação em \\$ y \\$ conforme \\$ x \\$ aumenta. A linha é horizontal.\n",
        "\n",
        "#### Exemplo 4: Inclinação Infinita\n",
        "\n",
        "Considere uma linha vertical passando pelos pontos \\$(2, 1)\\$ e \\$(2, 5)\\$.\n",
        "\n",
        "- Coordenadas do primeiro ponto \\$( x_1, y_1 \\$): (2, 1)\n",
        "- Coordenadas do segundo ponto \\$( x_2, y_2 \\$): (2, 5)\n",
        "\n",
        "Calculando a inclinação \\$( b \\$):\n",
        "\n",
        "\\$ b = \\frac{y_2 - y_1}{x_2 - x_1} = \\frac{5 - 1}{2 - 2} = \\frac{4}{0} \\$\n",
        "\n",
        "Aqui, a inclinação é indefinida (ou infinita), pois a variação em \\$ x \\$ é zero. A linha é vertical.\n",
        "\n",
        "### Conclusão\n",
        "\n",
        "A inclinação de uma linha é uma medida crucial que descreve a direção e a inclinação da linha. Calculando a inclinação usando a variação em \\$ y \\$ dividida pela variação em \\$ x \\$, podemos entender como a linha se comporta no plano cartesiano."
      ]
    },
    {
      "cell_type": "markdown",
      "id": "b7b1e633",
      "metadata": {
        "id": "b7b1e633"
      },
      "source": [
        "## O Papel do Intercepto \\$ a \\$ na Equação Linear\n",
        "\n",
        "Na equação linear \\$ y = a + bx \\$, o termo \\$ a \\$ é conhecido como intercepto y. Ele desempenha um papel crucial na determinação da posição da reta no plano cartesiano. Vamos explorar como o intercepto \\$ a \\$ interfere no desenho da reta e o que ele representa.\n",
        "\n",
        "#### O Que é o Intercepto \\$ a \\$?\n",
        "\n",
        "O intercepto \\$ a \\$ é o ponto onde a reta cruza o eixo y. Em outras palavras, é o valor de \\$ y \\$ quando \\$ x \\$ é zero. Isso significa que \\$ a \\$ define a altura da linha no eixo y.\n",
        "\n",
        "#### Como \\$ a \\$ Interfere no Desenho da Reta?\n",
        "\n",
        "1. **Deslocamento Vertical:**\n",
        "   - O valor de \\$ a \\$ desloca a reta verticalmente para cima ou para baixo no gráfico.\n",
        "   - Se \\$ a \\$ for positivo, a reta cruza o eixo y acima da origem (ponto \\$(0, 0)\\$.\n",
        "   - Se \\$ a \\$ for negativo, a reta cruza o eixo y abaixo da origem.<br><br>\n",
        "\n",
        "2. **Exemplo com Diferentes Valores de \\$ a \\$:**\n",
        "\n",
        "   - **Exemplo 1: \\$ y = 2x + 3 \\$**\n",
        "     - Aqui, o intercepto \\$ a \\$ é 3.\n",
        "     - A reta cruza o eixo y no ponto (0, 3).\n",
        "     - A reta é deslocada 3 unidades para cima.\n",
        "<br><br>\n",
        "   - **Exemplo 2: \\$ y = 2x - 2 \\$**\n",
        "     - Aqui, o intercepto \\$ a \\$ é -2.\n",
        "     - A reta cruza o eixo y no ponto (0, -2).\n",
        "     - A reta é deslocada 2 unidades para baixo.\n",
        "<br><br>\n",
        "   - **Exemplo 3: \\$ y = 2x \\$**\n",
        "     - Aqui, o intercepto \\$ a \\$ é 0.\n",
        "     - A reta cruza o eixo y exatamente na origem (0, 0).\n",
        "     - Não há deslocamento vertical.\n",
        "<br>\n",
        "\n",
        "### Conclusão\n",
        "\n",
        "O intercepto \\$ a \\$ na equação \\$ y = a + bx \\$ é fundamental para determinar onde a reta cruza o eixo y e, portanto, sua posição vertical no gráfico. Modificar o valor de \\$ a \\$ desloca a reta para cima ou para baixo sem alterar sua inclinação. Isso nos permite ajustar a posição da reta para modelar melhor diferentes situações no plano cartesiano."
      ]
    },
    {
      "cell_type": "markdown",
      "id": "83e56250",
      "metadata": {
        "id": "83e56250"
      },
      "source": [
        "Site legal para praticar: www.wolframalpha.com"
      ]
    },
    {
      "cell_type": "markdown",
      "id": "5e6ad18d",
      "metadata": {
        "id": "5e6ad18d"
      },
      "source": [
        "Variação no intercepto:"
      ]
    },
    {
      "cell_type": "code",
      "execution_count": null,
      "id": "70626bed",
      "metadata": {
        "id": "70626bed",
        "outputId": "9bc238e5-abb5-49c0-a145-448db2032cff"
      },
      "outputs": [
        {
          "data": {
            "text/plain": [
              "[<matplotlib.lines.Line2D at 0x12a8ec33cd0>]"
            ]
          },
          "execution_count": 15,
          "metadata": {},
          "output_type": "execute_result"
        },
        {
          "data": {
            "image/png": "[encoded data removed]",
            "text/plain": [
              "<Figure size 432x288 with 1 Axes>"
            ]
          },
          "metadata": {
            "needs_background": "light"
          },
          "output_type": "display_data"
        }
      ],
      "source": [
        "import numpy as np\n",
        "import matplotlib.pyplot as plt\n",
        "import warnings\n",
        "import pandas as pd\n",
        "\n",
        "# Suprimir todos os avisos\n",
        "warnings.filterwarnings(\"ignore\")\n",
        "\n",
        "np.random.seed(42)\n",
        "x = [-10, -5, 0, 5, 10]\n",
        "\n",
        "# Converter a lista x para um array numpy para realizar a multiplicação escalar\n",
        "x = np.array(x)\n",
        "\n",
        "# Calcular y\n",
        "y1 = 2 * x + 2\n",
        "\n",
        "y2 = 2 * x - 10\n",
        "\n",
        "plt.plot(x, y1)\n",
        "plt.plot(x, y2)"
      ]
    },
    {
      "cell_type": "code",
      "execution_count": null,
      "id": "f66d8cde",
      "metadata": {
        "id": "f66d8cde",
        "outputId": "835987c6-79d8-4cdc-ebd3-01b1ad450bb2"
      },
      "outputs": [
        {
          "data": {
            "text/plain": [
              "[<matplotlib.lines.Line2D at 0x12a8edd3670>]"
            ]
          },
          "execution_count": 16,
          "metadata": {},
          "output_type": "execute_result"
        },
        {
          "data": {
            "image/png": "[encoded data removed]",
            "text/plain": [
              "<Figure size 432x288 with 1 Axes>"
            ]
          },
          "metadata": {
            "needs_background": "light"
          },
          "output_type": "display_data"
        }
      ],
      "source": [
        "import numpy as np\n",
        "import matplotlib.pyplot as plt\n",
        "import warnings\n",
        "import pandas as pd\n",
        "\n",
        "# Suprimir todos os avisos\n",
        "warnings.filterwarnings(\"ignore\")\n",
        "\n",
        "np.random.seed(42)\n",
        "x = [-10, -5, 0, 5, 10]\n",
        "\n",
        "# Converter a lista x para um array numpy para realizar a multiplicação escalar\n",
        "x = np.array(x)\n",
        "\n",
        "# Calcular y\n",
        "y1 = 10 * x + 2\n",
        "\n",
        "y2 = 1 * x + 2\n",
        "\n",
        "plt.plot(x, y1)\n",
        "plt.plot(x, y2)"
      ]
    },
    {
      "cell_type": "code",
      "execution_count": null,
      "id": "37cb781c",
      "metadata": {
        "id": "37cb781c"
      },
      "outputs": [],
      "source": []
    }
  ],
  "metadata": {
    "kernelspec": {
      "display_name": "Python 3 (ipykernel)",
      "language": "python",
      "name": "python3"
    },
    "language_info": {
      "codemirror_mode": {
        "name": "ipython",
        "version": 3
      },
      "file_extension": ".py",
      "mimetype": "text/x-python",
      "name": "python",
      "nbconvert_exporter": "python",
      "pygments_lexer": "ipython3",
      "version": "3.9.12"
    },
    "colab": {
      "provenance": [],
      "include_colab_link": true
    }
  },
  "nbformat": 4,
  "nbformat_minor": 5
}