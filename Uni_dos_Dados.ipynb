{
  "nbformat": 4,
  "nbformat_minor": 0,
  "metadata": {
    "colab": {
      "provenance": [],
      "authorship_tag": "ABX9TyNTRQYgejZUbReDXUogkBVJ",
      "include_colab_link": true
    },
    "kernelspec": {
      "name": "python3",
      "display_name": "Python 3"
    },
    "language_info": {
      "name": "python"
    }
  },
  "cells": [
    {
      "cell_type": "markdown",
      "metadata": {
        "id": "view-in-github",
        "colab_type": "text"
      },
      "source": [
        "<a href=\"https://colab.research.google.com/github/viktoruebelhart/studies/blob/main/Uni_dos_Dados.ipynb\" target=\"_parent\"><img src=\"https://colab.research.google.com/assets/colab-badge.svg\" alt=\"Open In Colab\"/></a>"
      ]
    },
    {
      "cell_type": "markdown",
      "source": [
        "#Universidade dos Dados\n"
      ],
      "metadata": {
        "id": "dzlov8-P1DxP"
      }
    },
    {
      "cell_type": "markdown",
      "source": [
        "##Integridade dos Dados\n",
        "\n",
        "-Missings\n",
        "\n",
        "-Outliers\n",
        "\n",
        "    IQR = Q3 – Q1\n",
        "\n",
        "    [Q1 -1,5*IQR e Q3 + 1,5*IQR]\n",
        "\n",
        "-Tipo de cada coluna\n",
        "\n",
        "\tTexto(string), numérico, Data e Hora, Booleano (True(1) e False(0))\n",
        "\n",
        "-Número de Colunas e Linhas\n",
        "\n",
        "-Duplicidades\n",
        "\n",
        "-Normalização dos Dados\n"
      ],
      "metadata": {
        "id": "FJWIqPH91Mnd"
      }
    },
    {
      "cell_type": "markdown",
      "source": [
        "##Análise Univariada\n",
        "-Histograma (variável numérica)\n",
        "\n",
        "-Boxplot, Violin plot e Swarmplot (variável numérica)\n",
        "\n",
        "-Gráfico de Barras (Countplot) (variável categórica)\n"
      ],
      "metadata": {
        "id": "K5qla9iU19KI"
      }
    },
    {
      "cell_type": "markdown",
      "source": [
        "##1 Análise Bivariada\n",
        "-Gráfico de Dispersão\n",
        "\n",
        "-Boxplot, Violin plot e Swarmplot\n",
        "\n",
        "-Mapa de Calor\n",
        "\n",
        "\n",
        "##2 Análise Multivariada\n",
        "\n",
        "-Gráfico de Dispersão\n",
        "\n",
        "-Mapa de Calor"
      ],
      "metadata": {
        "id": "hvLuDd222Dvl"
      }
    },
    {
      "cell_type": "markdown",
      "source": [
        "#Cálculo para Data Sciece"
      ],
      "metadata": {
        "id": "4AkuPjwPP0nL"
      }
    },
    {
      "cell_type": "markdown",
      "source": [
        "esdudo gratuito de cálculo  - KHAN ACADEMY"
      ],
      "metadata": {
        "id": "nSnD09jnP7mD"
      }
    },
    {
      "cell_type": "markdown",
      "source": [
        "##1 - Funções\n"
      ],
      "metadata": {
        "id": "BdEgZEOkQJ3T"
      }
    },
    {
      "cell_type": "markdown",
      "source": [
        "Entrada - > Função -> Saída"
      ],
      "metadata": {
        "id": "32icJNFUVHSu"
      }
    },
    {
      "cell_type": "code",
      "source": [
        "import numpy as np"
      ],
      "metadata": {
        "id": "PJLlwzFlQMPx"
      },
      "execution_count": 1,
      "outputs": []
    },
    {
      "cell_type": "code",
      "source": [
        "np.exp(1)"
      ],
      "metadata": {
        "id": "RoMeBDooVDHX",
        "outputId": "b542fc2a-7c92-40f8-f593-82ad2ea337cf",
        "colab": {
          "base_uri": "https://localhost:8080/"
        }
      },
      "execution_count": 8,
      "outputs": [
        {
          "output_type": "execute_result",
          "data": {
            "text/plain": [
              "2.718281828459045"
            ]
          },
          "metadata": {},
          "execution_count": 8
        }
      ]
    },
    {
      "cell_type": "code",
      "source": [
        "1/(1+np.e**(-499))"
      ],
      "metadata": {
        "id": "u7YplQ8YTz6R",
        "outputId": "b5410dc4-c591-47d7-d9a8-c4d40fed3886",
        "colab": {
          "base_uri": "https://localhost:8080/"
        }
      },
      "execution_count": 6,
      "outputs": [
        {
          "output_type": "execute_result",
          "data": {
            "text/plain": [
              "1.0"
            ]
          },
          "metadata": {},
          "execution_count": 6
        }
      ]
    },
    {
      "cell_type": "code",
      "source": [],
      "metadata": {
        "id": "nIOrdCwgT63z"
      },
      "execution_count": null,
      "outputs": []
    }
  ]
}