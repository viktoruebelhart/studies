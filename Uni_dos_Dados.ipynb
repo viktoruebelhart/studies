{
  "nbformat": 4,
  "nbformat_minor": 0,
  "metadata": {
    "colab": {
      "provenance": [],
      "authorship_tag": "ABX9TyMh4qlbhYXoHpcWQuTxYpk1",
      "include_colab_link": true
    },
    "kernelspec": {
      "name": "python3",
      "display_name": "Python 3"
    },
    "language_info": {
      "name": "python"
    }
  },
  "cells": [
    {
      "cell_type": "markdown",
      "metadata": {
        "id": "view-in-github",
        "colab_type": "text"
      },
      "source": [
        "<a href=\"https://colab.research.google.com/github/viktoruebelhart/studies/blob/main/Uni_dos_Dados.ipynb\" target=\"_parent\"><img src=\"https://colab.research.google.com/assets/colab-badge.svg\" alt=\"Open In Colab\"/></a>"
      ]
    },
    {
      "cell_type": "markdown",
      "source": [
        "##Universidade dos Dados\n"
      ],
      "metadata": {
        "id": "dzlov8-P1DxP"
      }
    },
    {
      "cell_type": "markdown",
      "source": [
        "Integridade dos Dados\n",
        "\n",
        "-Missings\n",
        "\n",
        "-Outliers\n",
        "\n",
        "    IQR = Q3 – Q1\n",
        "\n",
        "    [Q1 -1,5*IQR e Q3 + 1,5*IQR]\n",
        "\n",
        "-Tipo de cada coluna\n",
        "\n",
        "\tTexto(string), numérico, Data e Hora, Booleano (True(1) e False(0))\n",
        "\n",
        "-Número de Colunas e Linhas\n",
        "\n",
        "-Duplicidades\n",
        "\n",
        "-Normalização dos Dados\n"
      ],
      "metadata": {
        "id": "FJWIqPH91Mnd"
      }
    },
    {
      "cell_type": "code",
      "source": [],
      "metadata": {
        "id": "P8B1cota1NH2"
      },
      "execution_count": null,
      "outputs": []
    }
  ]
}