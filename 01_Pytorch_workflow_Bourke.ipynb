{
  "nbformat": 4,
  "nbformat_minor": 0,
  "metadata": {
    "colab": {
      "provenance": [],
      "authorship_tag": "ABX9TyNd2eyUXURdcUrEPi4H5rs6",
      "include_colab_link": true
    },
    "kernelspec": {
      "name": "python3",
      "display_name": "Python 3"
    },
    "language_info": {
      "name": "python"
    }
  },
  "cells": [
    {
      "cell_type": "markdown",
      "metadata": {
        "id": "view-in-github",
        "colab_type": "text"
      },
      "source": [
        "<a href=\"https://colab.research.google.com/github/viktoruebelhart/studies/blob/main/01_Pytorch_workflow_Bourke.ipynb\" target=\"_parent\"><img src=\"https://colab.research.google.com/assets/colab-badge.svg\" alt=\"Open In Colab\"/></a>"
      ]
    },
    {
      "cell_type": "markdown",
      "source": [
        "# PyTorch Workflow\n",
        "\n",
        "Let's explore a an example PyTorch end-to-end workflow.\n",
        "\n",
        "Resorces:\n",
        "* Ground truth notebook\n",
        "* PyTorch Workflow\n",
        "* Ask a question"
      ],
      "metadata": {
        "id": "ChPS-jdTzLqx"
      }
    },
    {
      "cell_type": "code",
      "source": [
        "what_were_covering = {1: 'data(prepare and load)',\n",
        "                      2: 'build model',\n",
        "                      3: 'fitting the model to data(training)',\n",
        "                      4: 'making predictions and evaluating a model(inference)',\n",
        "                      5: 'saving and loading a model',\n",
        "                      6: 'putting it all together'}\n",
        "\n",
        "what_were_covering"
      ],
      "metadata": {
        "colab": {
          "base_uri": "https://localhost:8080/"
        },
        "id": "Xl7rZR0R0XNS",
        "outputId": "0b46bd02-b6c8-45f8-9c2d-2ad0b0edd644"
      },
      "execution_count": 7,
      "outputs": [
        {
          "output_type": "execute_result",
          "data": {
            "text/plain": [
              "{1: 'data(prepare and load)',\n",
              " 2: 'build model',\n",
              " 3: 'fitting the model to data(training)',\n",
              " 4: 'making predictions and evaluating a model(inference)',\n",
              " 5: 'saving and loading a model',\n",
              " 6: 'putting it all together'}"
            ]
          },
          "metadata": {},
          "execution_count": 7
        }
      ]
    },
    {
      "cell_type": "code",
      "source": [
        "import torch\n",
        "from torch import nn # nn contains all of Pytoch's building blocks for neural networks\n",
        "import matplotlib.pyplot as plt\n",
        "\n",
        "#Check Pytorch version\n",
        "torch.__version__"
      ],
      "metadata": {
        "id": "Op-M3CQ51pfk",
        "outputId": "6427cb2a-bc48-452f-d0b3-2f41916e8439",
        "colab": {
          "base_uri": "https://localhost:8080/",
          "height": 35
        }
      },
      "execution_count": 8,
      "outputs": [
        {
          "output_type": "execute_result",
          "data": {
            "text/plain": [
              "'2.5.1+cu121'"
            ],
            "application/vnd.google.colaboratory.intrinsic+json": {
              "type": "string"
            }
          },
          "metadata": {},
          "execution_count": 8
        }
      ]
    },
    {
      "cell_type": "markdown",
      "source": [
        "## Data (preparing and Loading)\n",
        "\n",
        "Data can be almost anything ... in machine learning.\n",
        "\n",
        "* Excel\n",
        "* Images\n",
        "* Videos\n",
        "* Audio\n",
        "* DNA\n",
        "* Text\n",
        "\n",
        "Machine Learning is a game of two parts:\n",
        "\n",
        "1. Get data into a numerical representation\n",
        "2. Build a model to learning patterns in that numerical representation\n",
        "\n"
      ],
      "metadata": {
        "id": "RJUBDWPzArqa"
      }
    },
    {
      "cell_type": "code",
      "source": [
        "# Create *known* parameters\n",
        "weight = 0.7\n",
        "bias = 0.3\n",
        "\n",
        "# Create\n",
        "start = 0\n",
        "end = 1\n",
        "step = 0.02\n",
        "X = torch.arange(start, end, step).unsqueeze(dim=1)\n",
        "y = weight * X + bias\n",
        "\n",
        "X[:10], y[:10]"
      ],
      "metadata": {
        "id": "e9lD7PXtB0tM",
        "outputId": "ab3ae246-ab82-4eaa-8639-ed4eb7a4f161",
        "colab": {
          "base_uri": "https://localhost:8080/"
        }
      },
      "execution_count": 19,
      "outputs": [
        {
          "output_type": "execute_result",
          "data": {
            "text/plain": [
              "(tensor([[0.0000],\n",
              "         [0.0200],\n",
              "         [0.0400],\n",
              "         [0.0600],\n",
              "         [0.0800],\n",
              "         [0.1000],\n",
              "         [0.1200],\n",
              "         [0.1400],\n",
              "         [0.1600],\n",
              "         [0.1800]]),\n",
              " tensor([[0.3000],\n",
              "         [0.3140],\n",
              "         [0.3280],\n",
              "         [0.3420],\n",
              "         [0.3560],\n",
              "         [0.3700],\n",
              "         [0.3840],\n",
              "         [0.3980],\n",
              "         [0.4120],\n",
              "         [0.4260]]))"
            ]
          },
          "metadata": {},
          "execution_count": 19
        }
      ]
    },
    {
      "cell_type": "code",
      "source": [
        "len(X), len(y)"
      ],
      "metadata": {
        "id": "E5_FNRVnb0qg",
        "outputId": "845906f1-d48e-4d26-b7fd-dc3df8ee8fda",
        "colab": {
          "base_uri": "https://localhost:8080/"
        }
      },
      "execution_count": 15,
      "outputs": [
        {
          "output_type": "execute_result",
          "data": {
            "text/plain": [
              "(50, 50)"
            ]
          },
          "metadata": {},
          "execution_count": 15
        }
      ]
    },
    {
      "cell_type": "code",
      "source": [],
      "metadata": {
        "id": "o6YDH6lMb909"
      },
      "execution_count": null,
      "outputs": []
    }
  ]
}