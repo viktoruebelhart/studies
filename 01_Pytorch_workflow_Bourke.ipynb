{
  "nbformat": 4,
  "nbformat_minor": 0,
  "metadata": {
    "colab": {
      "provenance": [],
      "authorship_tag": "ABX9TyMsTZgAbZvrm8yRKSRYdLz/",
      "include_colab_link": true
    },
    "kernelspec": {
      "name": "python3",
      "display_name": "Python 3"
    },
    "language_info": {
      "name": "python"
    }
  },
  "cells": [
    {
      "cell_type": "markdown",
      "metadata": {
        "id": "view-in-github",
        "colab_type": "text"
      },
      "source": [
        "<a href=\"https://colab.research.google.com/github/viktoruebelhart/studies/blob/main/01_Pytorch_workflow_Bourke.ipynb\" target=\"_parent\"><img src=\"https://colab.research.google.com/assets/colab-badge.svg\" alt=\"Open In Colab\"/></a>"
      ]
    },
    {
      "cell_type": "markdown",
      "source": [
        "# PyTorch Workflow\n",
        "\n",
        "Let's explore a an example PyTorch end-to-end workflow.\n",
        "\n",
        "Resorces:\n",
        "* Ground truth notebook\n",
        "* PyTorch Workflow\n",
        "* Ask a question"
      ],
      "metadata": {
        "id": "ChPS-jdTzLqx"
      }
    },
    {
      "cell_type": "code",
      "source": [
        "what_were_covering = {1: 'data(prepare and load)',\n",
        "                      2: 'build model',\n",
        "                      3: 'fitting the model to data(training)',\n",
        "                      4: 'making predictions and evaluating a model(inference)',\n",
        "                      5: 'saving and loading a model',\n",
        "                      6: 'putting it all together'}\n",
        "\n",
        "what_were_covering"
      ],
      "metadata": {
        "colab": {
          "base_uri": "https://localhost:8080/"
        },
        "id": "Xl7rZR0R0XNS",
        "outputId": "e388ee8a-2abb-4d92-c466-272168df331d"
      },
      "execution_count": 4,
      "outputs": [
        {
          "output_type": "execute_result",
          "data": {
            "text/plain": [
              "{1: 'data(prepare and load)',\n",
              " 2: 'build model',\n",
              " 3: 'fitting the model to data(training)',\n",
              " 4: 'making predictions and evaluating a model(inference)',\n",
              " 5: 'saving and loading a model',\n",
              " 6: 'putting it all together'}"
            ]
          },
          "metadata": {},
          "execution_count": 4
        }
      ]
    },
    {
      "cell_type": "code",
      "source": [],
      "metadata": {
        "id": "Op-M3CQ51pfk"
      },
      "execution_count": null,
      "outputs": []
    }
  ]
}